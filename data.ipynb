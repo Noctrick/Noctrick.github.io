{
 "cells": [
  {
   "cell_type": "markdown",
   "id": "49bf3a85",
   "metadata": {},
   "source": [
    "# Introduction\n"
   ]
  },
  {
   "cell_type": "markdown",
   "id": "0c1b1f39",
   "metadata": {},
   "source": [
    "Dataset: This dataset has information about the average mortgage debt from houshould from different periods.\n",
    "\n",
    "\n",
    "Two perspectives of the following datastory:\n",
    "1.How does mortgage debt change over time?\n",
    "2.Are there specific periods of rising or falling average mortgage debt?\n",
    "\n",
    "dataset preparation:\n",
    "We'll start by importing our data from a CSV file and displaying the first rows of the dataset to get a sense of its structure and content.\n"
   ]
  },
  {
   "cell_type": "code",
   "execution_count": 1,
   "id": "363fb4d7",
   "metadata": {},
   "outputs": [
    {
     "name": "stdout",
     "output_type": "stream",
     "text": [
      "   ID EigenaarBewoner KenmerkenVanHuishoudens  Perioden  \\\n",
      "0   0         T001628                 1050010  2006JJ00   \n",
      "1   1         T001628                 1050010  2007JJ00   \n",
      "2   2         T001628                 1050010  2008JJ00   \n",
      "3   3         T001628                 1050010  2009JJ00   \n",
      "4   4         T001628                 1050010  2010JJ00   \n",
      "\n",
      "   ParticuliereHuishoudens_1  GemiddeldeHypotheekschuldEigenWoning_2  \\\n",
      "0                     3764.0                                   128.0   \n",
      "1                     3841.5                                   136.4   \n",
      "2                     3932.9                                   144.5   \n",
      "3                     4084.4                                   147.6   \n",
      "4                     4134.1                                   151.0   \n",
      "\n",
      "   GemiddeldeWaardeEigenWoning_3  GemiddeldBrutoInkomen_4  \\\n",
      "0                          274.1                      NaN   \n",
      "1                          291.5                      NaN   \n",
      "2                          303.8                      NaN   \n",
      "3                          301.5                      NaN   \n",
      "4                          282.3                      NaN   \n",
      "\n",
      "   GemiddeldBesteedbaarInkomen_5  HypotheekschuldWoningwaarde_6  ...  \\\n",
      "0                            NaN                           0.45  ...   \n",
      "1                            NaN                           0.46  ...   \n",
      "2                            NaN                           0.48  ...   \n",
      "3                            NaN                           0.49  ...   \n",
      "4                            NaN                           0.55  ...   \n",
      "\n",
      "   k_09Tot10_13  k_1OfHoger_14  GeenSchuld_15  k_0Tot2_16  k_2Tot4_17  \\\n",
      "0         246.5          526.3            NaN         NaN         NaN   \n",
      "1         293.0          478.5            NaN         NaN         NaN   \n",
      "2         319.9          486.3            NaN         NaN         NaN   \n",
      "3         306.1          640.8            NaN         NaN         NaN   \n",
      "4         271.3          905.2            NaN         NaN         NaN   \n",
      "\n",
      "   k_4OfHoger_18  GeenSchuld_19  k_0Tot35_20  k_35Tot7_21  k_7OfHoger_22  \n",
      "0            NaN            NaN          NaN          NaN            NaN  \n",
      "1            NaN            NaN          NaN          NaN            NaN  \n",
      "2            NaN            NaN          NaN          NaN            NaN  \n",
      "3            NaN            NaN          NaN          NaN            NaN  \n",
      "4            NaN            NaN          NaN          NaN            NaN  \n",
      "\n",
      "[5 rows x 26 columns]\n"
     ]
    }
   ],
   "source": [
    "import pandas as pd\n",
    "\n",
    "# Read the CSV file\n",
    "df = pd.read_csv('schuld.csv', delimiter=';')\n",
    "\n",
    "# Display the first 5 rows\n",
    "print(df.head())\n"
   ]
  },
  {
   "cell_type": "code",
   "execution_count": 2,
   "id": "8392267e",
   "metadata": {
    "scrolled": false
   },
   "outputs": [
    {
     "data": {
      "image/png": "[encoded data removed]",
      "text/plain": [
       "<Figure size 1008x576 with 1 Axes>"
      ]
     },
     "metadata": {
      "needs_background": "light"
     },
     "output_type": "display_data"
    }
   ],
   "source": [
    "import matplotlib.pyplot as plt\n",
    "\n",
    "# Plot the data\n",
    "plt.figure(figsize=(14,8))\n",
    "plt.bar(df['Perioden'], df['GemiddeldeHypotheekschuldEigenWoning_2'])\n",
    "plt.title('Verandering in de gemiddelde hypotheekschuld van eigen woning over de tijd')\n",
    "plt.xlabel('Periode')\n",
    "plt.ylabel('Gemiddelde hypotheekschuld')\n",
    "plt.xticks(rotation=90)  # Rotate x-axis labels for better visibility\n",
    "plt.tight_layout()  # Adjust layout for better visibility\n",
    "plt.show()\n"
   ]
  },
  {
   "cell_type": "code",
   "execution_count": null,
   "id": "58d243ac",
   "metadata": {},
   "outputs": [],
   "source": []
  }
 ],
 "metadata": {
  "kernelspec": {
   "display_name": "Python 3 (ipykernel)",
   "language": "python",
   "name": "python3"
  },
  "language_info": {
   "codemirror_mode": {
    "name": "ipython",
    "version": 3
   },
   "file_extension": ".py",
   "mimetype": "text/x-python",
   "name": "python",
   "nbconvert_exporter": "python",
   "pygments_lexer": "ipython3",
   "version": "3.10.0"
  }
 },
 "nbformat": 4,
 "nbformat_minor": 5
}
