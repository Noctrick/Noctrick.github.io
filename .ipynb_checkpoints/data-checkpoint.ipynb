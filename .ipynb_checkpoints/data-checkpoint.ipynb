{
 "cells": [
  {
   "cell_type": "markdown",
   "id": "49bf3a85",
   "metadata": {},
   "source": [
    "# Visualization 1\n",
    "# Introductie\n",
    "In dit onderzoek richten we ons op de verandering in de gemiddelde hypotheekschuld van eigen woningen in Nederland over de jaren. Hypotheekschuld is een belangrijke indicator van de economische gezondheid van huishoudens en kan ons inzicht geven in de financiële druk waarmee huiseigenaren te maken hebben. Onze gegevens zijn afkomstig van het CBS en geven de gemiddelde hypotheekschuld per jaar weer, vanaf het jaar 2007. Door deze gegevens te visualiseren, kunnen we belangrijke trends en patronen identificeren die ons helpen de dynamiek van hypotheekschulden in Nederland te begrijpen. Deze barplot toont de gemiddelde hypotheekschuld van eigen woningen per jaar. De y-as vertegenwoordigt de gemiddelde hypotheekschuld, terwijl de x-as de opeenvolgende jaren laat zien. Op deze manier krijgen we een overzicht van de ontwikkeling van de hypotheekschuld in Nederland in de loop van de tijd."
   ]
  },
  {
   "cell_type": "markdown",
   "id": "0c1b1f39",
   "metadata": {},
   "source": [
    "# Dataset: \n",
    "Deze dataset bevat informatie over de gemiddelde hypotheekschuld van huishoudens uit verschillende periodes.\n",
    "\n",
    "In dit project kijken we naar de ontwikkeling van de hypotheekschuld van huishoudens in de tijd. We willen deze trends vanuit twee verschillende perspectieven belichten:\n",
    "\n",
    "\n",
    "\n",
    "# Twee perspectieven van het volgende dataverhaal:\n",
    "\n",
    "1. Hoe verandert de hypotheekschuld in de loop van de tijd?\n",
    "2. Zijn er specifieke periodes van stijgende of dalende gemiddelde hypotheekschuld?"
   ]
  },
  {
   "cell_type": "markdown",
   "id": "f941f472",
   "metadata": {},
   "source": [
    "# Dataset and preprocesessing:\n",
    "We beginnen met het importeren van onze gegevens uit een CSV-bestand en tonen de eerste rijen van de dataset om een ​​idee te krijgen van de structuur en inhoud ervan."
   ]
  },
  {
   "cell_type": "code",
   "execution_count": 1,
   "id": "363fb4d7",
   "metadata": {},
   "outputs": [
    {
     "name": "stdout",
     "output_type": "stream",
     "text": [
      "   ID EigenaarBewoner KenmerkenVanHuishoudens  Perioden  \\\n",
      "0   0         T001628                 1050010  2006JJ00   \n",
      "1   1         T001628                 1050010  2007JJ00   \n",
      "2   2         T001628                 1050010  2008JJ00   \n",
      "3   3         T001628                 1050010  2009JJ00   \n",
      "4   4         T001628                 1050010  2010JJ00   \n",
      "\n",
      "   ParticuliereHuishoudens_1  GemiddeldeHypotheekschuldEigenWoning_2  \\\n",
      "0                     3764.0                                   128.0   \n",
      "1                     3841.5                                   136.4   \n",
      "2                     3932.9                                   144.5   \n",
      "3                     4084.4                                   147.6   \n",
      "4                     4134.1                                   151.0   \n",
      "\n",
      "  GemiddeldeWaardeEigenWoning_3 GemiddeldBrutoInkomen_4  \\\n",
      "0                         274.1                       .   \n",
      "1                         291.5                       .   \n",
      "2                         303.8                       .   \n",
      "3                         301.5                       .   \n",
      "4                         282.3                       .   \n",
      "\n",
      "  GemiddeldBesteedbaarInkomen_5  HypotheekschuldWoningwaarde_6  ...  \\\n",
      "0                             .                           0.45  ...   \n",
      "1                             .                           0.46  ...   \n",
      "2                             .                           0.48  ...   \n",
      "3                             .                           0.49  ...   \n",
      "4                             .                           0.55  ...   \n",
      "\n",
      "  k_09Tot10_13 k_1OfHoger_14  GeenSchuld_15  k_0Tot2_16  k_2Tot4_17  \\\n",
      "0        246.5         526.3              .           .           .   \n",
      "1        293.0         478.5              .           .           .   \n",
      "2        319.9         486.3              .           .           .   \n",
      "3        306.1         640.8              .           .           .   \n",
      "4        271.3         905.2              .           .           .   \n",
      "\n",
      "   k_4OfHoger_18  GeenSchuld_19  k_0Tot35_20 k_35Tot7_21 k_7OfHoger_22  \n",
      "0              .              .            .           .             .  \n",
      "1              .              .            .           .             .  \n",
      "2              .              .            .           .             .  \n",
      "3              .              .            .           .             .  \n",
      "4              .              .            .           .             .  \n",
      "\n",
      "[5 rows x 26 columns]\n"
     ]
    }
   ],
   "source": [
    "import pandas as pd\n",
    "\n",
    "# Read the CSV file\n",
    "df = pd.read_csv('schuld.csv', delimiter=';')\n",
    "\n",
    "# Display the first 5 rows\n",
    "print(df.head())\n"
   ]
  },
  {
   "cell_type": "markdown",
   "id": "fa788f18",
   "metadata": {},
   "source": [
    "# Titel:\n",
    "Verandering van de gemiddelde hypotheekschuld van koopwoningen in de tijd\n",
    "\n",
    "# Bijschrift: \n",
    "Deze grafiek toont de verandering in de gemiddelde hypotheekschuld van huishoudens in de loop van de tijd. De hoogte van elke balk komt overeen met de gemiddelde hypotheekschuld in dat jaar.\n",
    "\n",
    "\n",
    "# Argumenten:\n",
    "\n",
    "Argument voor Perspectief 1: Onze eerste visualisatie laat zien dat de gemiddelde hypotheekschuld in de loop van de tijd verandert, wat suggereert dat er mogelijk externe factoren zijn die deze veranderingen beïnvloeden.\n",
    "\n",
    "Argument voor Perspectief 2: Door de data verder te analyseren, kunnen we proberen specifieke perioden te identificeren waarin de gemiddelde hypotheekschuld significant is gestegen of gedaald. Deze informatie kan worden gebruikt om de mogelijke oorzaken van deze fluctuaties nader te onderzoeken."
   ]
  },
  {
   "cell_type": "code",
   "execution_count": 2,
   "id": "8392267e",
   "metadata": {
    "scrolled": false
   },
   "outputs": [
    {
     "data": {
      "image/png": "[encoded data removed]",
      "text/plain": [
       "<Figure size 1008x576 with 1 Axes>"
      ]
     },
     "metadata": {
      "needs_background": "light"
     },
     "output_type": "display_data"
    }
   ],
   "source": [
    "import matplotlib.pyplot as plt\n",
    "\n",
    "df['Perioden'] = df['Perioden'].str.slice(0, 4)\n",
    "\n",
    "plt.figure(figsize=(14,8))\n",
    "plt.bar(df['Perioden'], df['GemiddeldeHypotheekschuldEigenWoning_2'])\n",
    "plt.title('Verandering in de gemiddelde hypotheekschuld van eigen woning over de tijd')\n",
    "plt.xlabel('Jaar')\n",
    "plt.ylabel('Gemiddelde hypotheekschuld')\n",
    "plt.xticks(rotation=90)  \n",
    "plt.tight_layout()  \n",
    "plt.show()\n",
    "\n"
   ]
  },
  {
   "cell_type": "markdown",
   "id": "866f6a92",
   "metadata": {},
   "source": [
    "# Draft version 1\n"
   ]
  },
  {
   "cell_type": "markdown",
   "id": "1a969610",
   "metadata": {},
   "source": [
    "# introductie\n",
    "In het gedeelde verhaal van de financiën van huiseigenaren is de relatie tussen hypotheekschuld en besteedbaar inkomen altijd een centraal discussiepunt geweest. In dit dataverhaal analyseren we trends in de gemiddelde hypotheekschuld en besteed inkomen van de afgelopen jaren om inzicht te krijgen in de financiële gezondheid van huiseigenaren in Nederland. Deze combinatie kan een rol spelen bij het vormgeven van beleid en het begrijpen van de effecten van economische fluctuaties op individuele huishoudens.\n",
    "\n",
    "\n",
    "\n",
    "# Dataset en voorbewerking\n",
    "“We hebben gebruik gemaakt van gegevens van het Centraal Bureau voor de Statistiek (CBS) die de gemiddelde hypotheekschuld en het besteedbaar inkomen van huishoudens over de afgelopen jaren weergeven. De dataset vergde enige opschoning, onder meer door het verwijderen van overbodige tekens uit de jaarkolommen. Verder we hebben normalisatie toegepast op zowel de hypotheekschuld als de cijfers over het besteedbare inkomen, waardoor ze op een vergelijkbare schaal zijn gebracht voor onze visuele verkenning.\"\n",
    "\n",
    "\n",
    "\n",
    "# Visualisaties:\n",
    "\n",
    "1. \"Verandering in gemiddelde hypotheekschuld in de loop van de tijd\" - Dit is een eenvoudig staafdiagram dat de veranderingen in de gemiddelde hypotheekschuld door de jaren heen bijhoudt. Elke balk staat voor een jaar en de hoogte van de balk geeft de gemiddelde hypotheekschuld voor dat jaar aan. Deze grafiek is behulpzaam bij het aantonen van de ontwikkeling van de hypotheekschuld door de jaren heen.\n",
    "\n",
    "2. \"Genormaliseerde vergelijking van gemiddelde hypotheekschuld en besteedbaar inkomen in de loop van de tijd\" - In dit gestapelde staafdiagram presenteren we een vergelijking tussen de genormaliseerde waarden van de gemiddelde hypotheekschuld en het beschikbare inkomen. Elk staafje staat voor een jaar, waarbij het blauwe deel de genormaliseerde gemiddelde hypotheekschuld weergeeft en het rode deel het genormaliseerde gemiddelde besteedbare inkomen. Deze visualisatie geeft een overzicht van de relatie en verhouding tussen hypotheekschuld en besteedbaar inkomen in de tijd.\n",
    "\n",
    "\n",
    "# Argumenten:\n",
    "\n",
    "1. Hypotheekschuldtrend in de loop van de tijd: dit argument maakt gebruik van de eerste visualisatie en bespreekt hoe de gemiddelde hypotheekschuld in de loop der jaren is veranderd.\n",
    "\n",
    "2. Vergelijking tussen hypotheekschuld en besteedbaar inkomen: Dit argument zal gebaseerd zijn op de tweede visualisatie en zal de verhouding en relatie tussen de gemiddelde hypotheekschuld en het beschikbare inkomen bespreken.\n",
    "\n",
    "3. Effect van economische fluctuaties: op basis van de waargenomen trends in de visualisaties bespreken we hoe economische fluctuaties de waargenomen patronen kunnen hebben beïnvloed."
   ]
  },
  {
   "cell_type": "code",
   "execution_count": 4,
   "id": "58d243ac",
   "metadata": {},
   "outputs": [
    {
     "ename": "TypeError",
     "evalue": "unsupported operand type(s) for /: 'str' and 'str'",
     "output_type": "error",
     "traceback": [
      "\u001b[0;31m---------------------------------------------------------------------------\u001b[0m",
      "\u001b[0;31mTypeError\u001b[0m                                 Traceback (most recent call last)",
      "\u001b[0;32m/usr/local/lib/python3.10/dist-packages/pandas/core/ops/array_ops.py\u001b[0m in \u001b[0;36m_na_arithmetic_op\u001b[0;34m(left, right, op, is_cmp)\u001b[0m\n\u001b[1;32m    164\u001b[0m     \u001b[0;32mtry\u001b[0m\u001b[0;34m:\u001b[0m\u001b[0;34m\u001b[0m\u001b[0;34m\u001b[0m\u001b[0m\n\u001b[0;32m--> 165\u001b[0;31m         \u001b[0mresult\u001b[0m \u001b[0;34m=\u001b[0m \u001b[0mfunc\u001b[0m\u001b[0;34m(\u001b[0m\u001b[0mleft\u001b[0m\u001b[0;34m,\u001b[0m \u001b[0mright\u001b[0m\u001b[0;34m)\u001b[0m\u001b[0;34m\u001b[0m\u001b[0;34m\u001b[0m\u001b[0m\n\u001b[0m\u001b[1;32m    166\u001b[0m     \u001b[0;32mexcept\u001b[0m \u001b[0mTypeError\u001b[0m\u001b[0;34m:\u001b[0m\u001b[0;34m\u001b[0m\u001b[0;34m\u001b[0m\u001b[0m\n",
      "\u001b[0;31mTypeError\u001b[0m: unsupported operand type(s) for /: 'str' and 'str'",
      "\nDuring handling of the above exception, another exception occurred:\n",
      "\u001b[0;31mTypeError\u001b[0m                                 Traceback (most recent call last)",
      "\u001b[0;32m/tmp/ipykernel_9643/1579663547.py\u001b[0m in \u001b[0;36m<module>\u001b[0;34m\u001b[0m\n\u001b[1;32m      7\u001b[0m \u001b[0;31m# Normalizing the data for better comparison\u001b[0m\u001b[0;34m\u001b[0m\u001b[0;34m\u001b[0m\u001b[0m\n\u001b[1;32m      8\u001b[0m \u001b[0mdf\u001b[0m\u001b[0;34m[\u001b[0m\u001b[0;34m'GemiddeldeHypotheekschuldEigenWoning_2_norm'\u001b[0m\u001b[0;34m]\u001b[0m \u001b[0;34m=\u001b[0m \u001b[0mdf\u001b[0m\u001b[0;34m[\u001b[0m\u001b[0;34m'GemiddeldeHypotheekschuldEigenWoning_2'\u001b[0m\u001b[0;34m]\u001b[0m \u001b[0;34m/\u001b[0m \u001b[0mdf\u001b[0m\u001b[0;34m[\u001b[0m\u001b[0;34m'GemiddeldeHypotheekschuldEigenWoning_2'\u001b[0m\u001b[0;34m]\u001b[0m\u001b[0;34m.\u001b[0m\u001b[0mmax\u001b[0m\u001b[0;34m(\u001b[0m\u001b[0;34m)\u001b[0m\u001b[0;34m\u001b[0m\u001b[0;34m\u001b[0m\u001b[0m\n\u001b[0;32m----> 9\u001b[0;31m \u001b[0mdf\u001b[0m\u001b[0;34m[\u001b[0m\u001b[0;34m'GemiddeldBesteedbaarInkomen_5_norm'\u001b[0m\u001b[0;34m]\u001b[0m \u001b[0;34m=\u001b[0m \u001b[0mdf\u001b[0m\u001b[0;34m[\u001b[0m\u001b[0;34m'GemiddeldBesteedbaarInkomen_5'\u001b[0m\u001b[0;34m]\u001b[0m \u001b[0;34m/\u001b[0m \u001b[0mdf\u001b[0m\u001b[0;34m[\u001b[0m\u001b[0;34m'GemiddeldBesteedbaarInkomen_5'\u001b[0m\u001b[0;34m]\u001b[0m\u001b[0;34m.\u001b[0m\u001b[0mmax\u001b[0m\u001b[0;34m(\u001b[0m\u001b[0;34m)\u001b[0m\u001b[0;34m\u001b[0m\u001b[0;34m\u001b[0m\u001b[0m\n\u001b[0m\u001b[1;32m     10\u001b[0m \u001b[0;34m\u001b[0m\u001b[0m\n\u001b[1;32m     11\u001b[0m \u001b[0;31m# Plotting\u001b[0m\u001b[0;34m\u001b[0m\u001b[0;34m\u001b[0m\u001b[0m\n",
      "\u001b[0;32m/usr/local/lib/python3.10/dist-packages/pandas/core/ops/common.py\u001b[0m in \u001b[0;36mnew_method\u001b[0;34m(self, other)\u001b[0m\n\u001b[1;32m     70\u001b[0m         \u001b[0mother\u001b[0m \u001b[0;34m=\u001b[0m \u001b[0mitem_from_zerodim\u001b[0m\u001b[0;34m(\u001b[0m\u001b[0mother\u001b[0m\u001b[0;34m)\u001b[0m\u001b[0;34m\u001b[0m\u001b[0;34m\u001b[0m\u001b[0m\n\u001b[1;32m     71\u001b[0m \u001b[0;34m\u001b[0m\u001b[0m\n\u001b[0;32m---> 72\u001b[0;31m         \u001b[0;32mreturn\u001b[0m \u001b[0mmethod\u001b[0m\u001b[0;34m(\u001b[0m\u001b[0mself\u001b[0m\u001b[0;34m,\u001b[0m \u001b[0mother\u001b[0m\u001b[0;34m)\u001b[0m\u001b[0;34m\u001b[0m\u001b[0;34m\u001b[0m\u001b[0m\n\u001b[0m\u001b[1;32m     73\u001b[0m \u001b[0;34m\u001b[0m\u001b[0m\n\u001b[1;32m     74\u001b[0m     \u001b[0;32mreturn\u001b[0m \u001b[0mnew_method\u001b[0m\u001b[0;34m\u001b[0m\u001b[0;34m\u001b[0m\u001b[0m\n",
      "\u001b[0;32m/usr/local/lib/python3.10/dist-packages/pandas/core/arraylike.py\u001b[0m in \u001b[0;36m__truediv__\u001b[0;34m(self, other)\u001b[0m\n\u001b[1;32m    124\u001b[0m     \u001b[0;34m@\u001b[0m\u001b[0munpack_zerodim_and_defer\u001b[0m\u001b[0;34m(\u001b[0m\u001b[0;34m\"__truediv__\"\u001b[0m\u001b[0;34m)\u001b[0m\u001b[0;34m\u001b[0m\u001b[0;34m\u001b[0m\u001b[0m\n\u001b[1;32m    125\u001b[0m     \u001b[0;32mdef\u001b[0m \u001b[0m__truediv__\u001b[0m\u001b[0;34m(\u001b[0m\u001b[0mself\u001b[0m\u001b[0;34m,\u001b[0m \u001b[0mother\u001b[0m\u001b[0;34m)\u001b[0m\u001b[0;34m:\u001b[0m\u001b[0;34m\u001b[0m\u001b[0;34m\u001b[0m\u001b[0m\n\u001b[0;32m--> 126\u001b[0;31m         \u001b[0;32mreturn\u001b[0m \u001b[0mself\u001b[0m\u001b[0;34m.\u001b[0m\u001b[0m_arith_method\u001b[0m\u001b[0;34m(\u001b[0m\u001b[0mother\u001b[0m\u001b[0;34m,\u001b[0m \u001b[0moperator\u001b[0m\u001b[0;34m.\u001b[0m\u001b[0mtruediv\u001b[0m\u001b[0;34m)\u001b[0m\u001b[0;34m\u001b[0m\u001b[0;34m\u001b[0m\u001b[0m\n\u001b[0m\u001b[1;32m    127\u001b[0m \u001b[0;34m\u001b[0m\u001b[0m\n\u001b[1;32m    128\u001b[0m     \u001b[0;34m@\u001b[0m\u001b[0munpack_zerodim_and_defer\u001b[0m\u001b[0;34m(\u001b[0m\u001b[0;34m\"__rtruediv__\"\u001b[0m\u001b[0;34m)\u001b[0m\u001b[0;34m\u001b[0m\u001b[0;34m\u001b[0m\u001b[0m\n",
      "\u001b[0;32m/usr/local/lib/python3.10/dist-packages/pandas/core/series.py\u001b[0m in \u001b[0;36m_arith_method\u001b[0;34m(self, other, op)\u001b[0m\n\u001b[1;32m   6257\u001b[0m     \u001b[0;32mdef\u001b[0m \u001b[0m_arith_method\u001b[0m\u001b[0;34m(\u001b[0m\u001b[0mself\u001b[0m\u001b[0;34m,\u001b[0m \u001b[0mother\u001b[0m\u001b[0;34m,\u001b[0m \u001b[0mop\u001b[0m\u001b[0;34m)\u001b[0m\u001b[0;34m:\u001b[0m\u001b[0;34m\u001b[0m\u001b[0;34m\u001b[0m\u001b[0m\n\u001b[1;32m   6258\u001b[0m         \u001b[0mself\u001b[0m\u001b[0;34m,\u001b[0m \u001b[0mother\u001b[0m \u001b[0;34m=\u001b[0m \u001b[0mops\u001b[0m\u001b[0;34m.\u001b[0m\u001b[0malign_method_SERIES\u001b[0m\u001b[0;34m(\u001b[0m\u001b[0mself\u001b[0m\u001b[0;34m,\u001b[0m \u001b[0mother\u001b[0m\u001b[0;34m)\u001b[0m\u001b[0;34m\u001b[0m\u001b[0;34m\u001b[0m\u001b[0m\n\u001b[0;32m-> 6259\u001b[0;31m         \u001b[0;32mreturn\u001b[0m \u001b[0mbase\u001b[0m\u001b[0;34m.\u001b[0m\u001b[0mIndexOpsMixin\u001b[0m\u001b[0;34m.\u001b[0m\u001b[0m_arith_method\u001b[0m\u001b[0;34m(\u001b[0m\u001b[0mself\u001b[0m\u001b[0;34m,\u001b[0m \u001b[0mother\u001b[0m\u001b[0;34m,\u001b[0m \u001b[0mop\u001b[0m\u001b[0;34m)\u001b[0m\u001b[0;34m\u001b[0m\u001b[0;34m\u001b[0m\u001b[0m\n\u001b[0m\u001b[1;32m   6260\u001b[0m \u001b[0;34m\u001b[0m\u001b[0m\n\u001b[1;32m   6261\u001b[0m \u001b[0;34m\u001b[0m\u001b[0m\n",
      "\u001b[0;32m/usr/local/lib/python3.10/dist-packages/pandas/core/base.py\u001b[0m in \u001b[0;36m_arith_method\u001b[0;34m(self, other, op)\u001b[0m\n\u001b[1;32m   1323\u001b[0m \u001b[0;34m\u001b[0m\u001b[0m\n\u001b[1;32m   1324\u001b[0m         \u001b[0;32mwith\u001b[0m \u001b[0mnp\u001b[0m\u001b[0;34m.\u001b[0m\u001b[0merrstate\u001b[0m\u001b[0;34m(\u001b[0m\u001b[0mall\u001b[0m\u001b[0;34m=\u001b[0m\u001b[0;34m\"ignore\"\u001b[0m\u001b[0;34m)\u001b[0m\u001b[0;34m:\u001b[0m\u001b[0;34m\u001b[0m\u001b[0;34m\u001b[0m\u001b[0m\n\u001b[0;32m-> 1325\u001b[0;31m             \u001b[0mresult\u001b[0m \u001b[0;34m=\u001b[0m \u001b[0mops\u001b[0m\u001b[0;34m.\u001b[0m\u001b[0marithmetic_op\u001b[0m\u001b[0;34m(\u001b[0m\u001b[0mlvalues\u001b[0m\u001b[0;34m,\u001b[0m \u001b[0mrvalues\u001b[0m\u001b[0;34m,\u001b[0m \u001b[0mop\u001b[0m\u001b[0;34m)\u001b[0m\u001b[0;34m\u001b[0m\u001b[0;34m\u001b[0m\u001b[0m\n\u001b[0m\u001b[1;32m   1326\u001b[0m \u001b[0;34m\u001b[0m\u001b[0m\n\u001b[1;32m   1327\u001b[0m         \u001b[0;32mreturn\u001b[0m \u001b[0mself\u001b[0m\u001b[0;34m.\u001b[0m\u001b[0m_construct_result\u001b[0m\u001b[0;34m(\u001b[0m\u001b[0mresult\u001b[0m\u001b[0;34m,\u001b[0m \u001b[0mname\u001b[0m\u001b[0;34m=\u001b[0m\u001b[0mres_name\u001b[0m\u001b[0;34m)\u001b[0m\u001b[0;34m\u001b[0m\u001b[0;34m\u001b[0m\u001b[0m\n",
      "\u001b[0;32m/usr/local/lib/python3.10/dist-packages/pandas/core/ops/array_ops.py\u001b[0m in \u001b[0;36marithmetic_op\u001b[0;34m(left, right, op)\u001b[0m\n\u001b[1;32m    224\u001b[0m         \u001b[0;31m# error: Argument 1 to \"_na_arithmetic_op\" has incompatible type\u001b[0m\u001b[0;34m\u001b[0m\u001b[0;34m\u001b[0m\u001b[0m\n\u001b[1;32m    225\u001b[0m         \u001b[0;31m# \"Union[ExtensionArray, ndarray[Any, Any]]\"; expected \"ndarray[Any, Any]\"\u001b[0m\u001b[0;34m\u001b[0m\u001b[0;34m\u001b[0m\u001b[0m\n\u001b[0;32m--> 226\u001b[0;31m         \u001b[0mres_values\u001b[0m \u001b[0;34m=\u001b[0m \u001b[0m_na_arithmetic_op\u001b[0m\u001b[0;34m(\u001b[0m\u001b[0mleft\u001b[0m\u001b[0;34m,\u001b[0m \u001b[0mright\u001b[0m\u001b[0;34m,\u001b[0m \u001b[0mop\u001b[0m\u001b[0;34m)\u001b[0m  \u001b[0;31m# type: ignore[arg-type]\u001b[0m\u001b[0;34m\u001b[0m\u001b[0;34m\u001b[0m\u001b[0m\n\u001b[0m\u001b[1;32m    227\u001b[0m \u001b[0;34m\u001b[0m\u001b[0m\n\u001b[1;32m    228\u001b[0m     \u001b[0;32mreturn\u001b[0m \u001b[0mres_values\u001b[0m\u001b[0;34m\u001b[0m\u001b[0;34m\u001b[0m\u001b[0m\n",
      "\u001b[0;32m/usr/local/lib/python3.10/dist-packages/pandas/core/ops/array_ops.py\u001b[0m in \u001b[0;36m_na_arithmetic_op\u001b[0;34m(left, right, op, is_cmp)\u001b[0m\n\u001b[1;32m    170\u001b[0m             \u001b[0;31m# Don't do this for comparisons, as that will handle complex numbers\u001b[0m\u001b[0;34m\u001b[0m\u001b[0;34m\u001b[0m\u001b[0m\n\u001b[1;32m    171\u001b[0m             \u001b[0;31m#  incorrectly, see GH#32047\u001b[0m\u001b[0;34m\u001b[0m\u001b[0;34m\u001b[0m\u001b[0m\n\u001b[0;32m--> 172\u001b[0;31m             \u001b[0mresult\u001b[0m \u001b[0;34m=\u001b[0m \u001b[0m_masked_arith_op\u001b[0m\u001b[0;34m(\u001b[0m\u001b[0mleft\u001b[0m\u001b[0;34m,\u001b[0m \u001b[0mright\u001b[0m\u001b[0;34m,\u001b[0m \u001b[0mop\u001b[0m\u001b[0;34m)\u001b[0m\u001b[0;34m\u001b[0m\u001b[0;34m\u001b[0m\u001b[0m\n\u001b[0m\u001b[1;32m    173\u001b[0m         \u001b[0;32melse\u001b[0m\u001b[0;34m:\u001b[0m\u001b[0;34m\u001b[0m\u001b[0;34m\u001b[0m\u001b[0m\n\u001b[1;32m    174\u001b[0m             \u001b[0;32mraise\u001b[0m\u001b[0;34m\u001b[0m\u001b[0;34m\u001b[0m\u001b[0m\n",
      "\u001b[0;32m/usr/local/lib/python3.10/dist-packages/pandas/core/ops/array_ops.py\u001b[0m in \u001b[0;36m_masked_arith_op\u001b[0;34m(x, y, op)\u001b[0m\n\u001b[1;32m    127\u001b[0m \u001b[0;34m\u001b[0m\u001b[0m\n\u001b[1;32m    128\u001b[0m         \u001b[0;32mif\u001b[0m \u001b[0mmask\u001b[0m\u001b[0;34m.\u001b[0m\u001b[0many\u001b[0m\u001b[0;34m(\u001b[0m\u001b[0;34m)\u001b[0m\u001b[0;34m:\u001b[0m\u001b[0;34m\u001b[0m\u001b[0;34m\u001b[0m\u001b[0m\n\u001b[0;32m--> 129\u001b[0;31m             \u001b[0mresult\u001b[0m\u001b[0;34m[\u001b[0m\u001b[0mmask\u001b[0m\u001b[0;34m]\u001b[0m \u001b[0;34m=\u001b[0m \u001b[0mop\u001b[0m\u001b[0;34m(\u001b[0m\u001b[0mxrav\u001b[0m\u001b[0;34m[\u001b[0m\u001b[0mmask\u001b[0m\u001b[0;34m]\u001b[0m\u001b[0;34m,\u001b[0m \u001b[0my\u001b[0m\u001b[0;34m)\u001b[0m\u001b[0;34m\u001b[0m\u001b[0;34m\u001b[0m\u001b[0m\n\u001b[0m\u001b[1;32m    130\u001b[0m \u001b[0;34m\u001b[0m\u001b[0m\n\u001b[1;32m    131\u001b[0m     \u001b[0mnp\u001b[0m\u001b[0;34m.\u001b[0m\u001b[0mputmask\u001b[0m\u001b[0;34m(\u001b[0m\u001b[0mresult\u001b[0m\u001b[0;34m,\u001b[0m \u001b[0;34m~\u001b[0m\u001b[0mmask\u001b[0m\u001b[0;34m,\u001b[0m \u001b[0mnp\u001b[0m\u001b[0;34m.\u001b[0m\u001b[0mnan\u001b[0m\u001b[0;34m)\u001b[0m\u001b[0;34m\u001b[0m\u001b[0;34m\u001b[0m\u001b[0m\n",
      "\u001b[0;31mTypeError\u001b[0m: unsupported operand type(s) for /: 'str' and 'str'"
     ]
    }
   ],
   "source": [
    "df['Perioden_clean'] = df['Perioden'].str.replace('JJ00', '').astype(int)\n",
    "\n",
    "\n",
    "import matplotlib.pyplot as plt\n",
    "import numpy as np\n",
    "\n",
    "# Normalizing the data for better comparison\n",
    "df['GemiddeldeHypotheekschuldEigenWoning_2_norm'] = df['GemiddeldeHypotheekschuldEigenWoning_2'] / df['GemiddeldeHypotheekschuldEigenWoning_2'].max()\n",
    "df['GemiddeldBesteedbaarInkomen_5_norm'] = df['GemiddeldBesteedbaarInkomen_5'] / df['GemiddeldBesteedbaarInkomen_5'].max()\n",
    "\n",
    "# Plotting\n",
    "plt.figure(figsize=(14,8))\n",
    "bar1 = np.arange(len(df['Perioden_clean']))\n",
    "bar2 = [i+j for i,j in zip(df['GemiddeldeHypotheekschuldEigenWoning_2_norm'], df['GemiddeldBesteedbaarInkomen_5_norm'])]\n",
    "\n",
    "plt.bar(df['Perioden_clean'], df['GemiddeldeHypotheekschuldEigenWoning_2_norm'], color='b', label='Gemiddelde Hypotheekschuld')\n",
    "plt.bar(df['Perioden_clean'], df['GemiddeldBesteedbaarInkomen_5_norm'], bottom=df['GemiddeldeHypotheekschuldEigenWoning_2_norm'], color='r', label='Gemiddeld Besteedbaar Inkomen')\n",
    "\n",
    "plt.xlabel('Periode')\n",
    "plt.ylabel('Genormaliseerde waarden')\n",
    "plt.title('Vergelijking van genormaliseerde gemiddelde hypotheekschuld en besteedbaar inkomen over tijd')\n",
    "plt.legend()\n",
    "plt.show()\n",
    "\n",
    "\n"
   ]
  },
  {
   "cell_type": "markdown",
   "id": "35259d81",
   "metadata": {},
   "source": [
    "# Visualisaties:\n",
    "\n",
    "1. Lineaire trend van hypotheekschuld en inkomen over de tijd\n",
    "Dit kan een lineair plot zijn waarin we zowel de gemiddelde hypotheekschuld als het besteedbaar inkomen over de jaren plotten. Elk van deze zou een lijn hebben, waardoor we gemakkelijk de respectievelijke trends en hun relatie kunnen zien. Deze visualisatie kan ook enkele interessante inzichten opleveren, zoals de snelheid waarmee elke metriek verandert en hoe deze veranderingen zich tot elkaar verhouden.\n",
    "\n",
    "2. Scatterplot van Financiële Tevredenheid vs. Hypotheekschuld: Een scatterplot die individuele gevallen toont van financiële tevredenheid gerangschikt tegen hypotheekschuld. Deze visualisatie zou het argument kunnen ondersteunen dat degenen die financieel tevreden zijn, beter omgaan met een stijgende hypotheekschuld. Het zou ook interessant zijn om een trendlijn op te nemen om de alg\n",
    "\n"
   ]
  },
  {
   "cell_type": "code",
   "execution_count": null,
   "id": "d4e10f81",
   "metadata": {},
   "outputs": [],
   "source": []
  }
 ],
 "metadata": {
  "kernelspec": {
   "display_name": "Python 3 (ipykernel)",
   "language": "python",
   "name": "python3"
  },
  "language_info": {
   "codemirror_mode": {
    "name": "ipython",
    "version": 3
   },
   "file_extension": ".py",
   "mimetype": "text/x-python",
   "name": "python",
   "nbconvert_exporter": "python",
   "pygments_lexer": "ipython3",
   "version": "3.10.6"
  }
 },
 "nbformat": 4,
 "nbformat_minor": 5
}
