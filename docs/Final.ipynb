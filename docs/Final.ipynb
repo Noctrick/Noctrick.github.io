{
 "cells": [
  {
   "cell_type": "markdown",
   "id": "a6f2031b",
   "metadata": {},
   "source": [
    "# Data story hypotheekschulden\n",
    "\n",
    "Student names: Fabian Veltkamp, Finley Helms, Jesse Mastenbroek, Patrick Wisse\n",
    "\n",
    "Team number: I3"
   ]
  },
  {
   "cell_type": "code",
   "execution_count": 10,
   "id": "d4f867bf",
   "metadata": {},
   "outputs": [
    {
     "data": {
      "text/html": [
       "<img src=\"https://cdn.canadianmortgagetrends.com/wp-content/uploads/2022/10/Mortgage-rates-on-the-rise_med-770x490.jpg\" width=\"600\" height=\"300\"/>"
      ],
      "text/plain": [
       "<IPython.core.display.Image object>"
      ]
     },
     "metadata": {},
     "output_type": "display_data"
    },
    {
     "name": "stdout",
     "output_type": "stream",
     "text": [
      "© Getty images\n"
     ]
    }
   ],
   "source": [
    "# Afbeeldingen inladen via url\n",
    "url = 'https://cdn.canadianmortgagetrends.com/wp-content/uploads/2022/10/Mortgage-rates-on-the-rise_med-770x490.jpg'\n",
    "\n",
    "# Afbeelding weergeven\n",
    "from IPython.display import Image, display\n",
    "\n",
    "width = 600\n",
    "height = 300\n",
    "\n",
    "subtitle = \"© Getty images\"\n",
    "\n",
    "image = Image(url=url, width=width, height=height)\n",
    "\n",
    "display(image)\n",
    "print(subtitle)"
   ]
  },
  {
   "cell_type": "markdown",
   "id": "ab8de4e7",
   "metadata": {},
   "source": [
    "# Inleiding\n",
    "\n",
    "In de afgelopen jaren is er een redelijk constante stijging van de hypotheekschulden, dit is in de data die we gebruiken voor het onderzoek te zien. Hierboven op heeft de economie nog een harde klap gehad vanwege het coronavirus. Dan komt de vraag omhoog of die stijgende hypotheekschulden wellicht problemen veroorzaken. Daar omheen zal ons onderzoek ook gecentreerd staan. \n",
    "\n",
    "De stijgende schulden kunnen gelinkt worden aan andere informatie uit de data en hierdoor kunnen dan stellingen gedaan worden over het feit dat de schulden stijgen. Zo willen we ook niet alleen focussen op de financiële kant, maar ook op wat dit doet met de mensen. "
   ]
  },
  {
   "cell_type": "markdown",
   "id": "2ff5b3c0",
   "metadata": {},
   "source": [
    "# Dataset and preprocessing\n",
    "\n",
    "### [Dataset 1](https://opendata.cbs.nl/statline/portal.html?_la=nl&_catalog=CBS&tableId=85162NED&_theme=190)\n",
    "Deze dataset bevat info over het financieel risico voor huiseigenaren. Hypytheekschuld, woningwaarde en inkomen worden aan elkaar gekoppeld. Hierbij word er onderscheid gemaakt tussen de resultaten met factoren op basis van huishoudsamenstelling, leeftijd van de kostwinner, inkomens groepen en vermogensgroepen. Er zijn drie belangrijke\n",
    "metingen van financieel risico, hypotheekschuld/woningwaarde (LTV), hypotheekschuld/bruto inkomen en hypotheekschuld/besteedbaar inkomen.\n",
    "\n",
    "### [Dataset 2](https://opendata.cbs.nl/statline/portal.html?_la=nl&_catalog=CBS&tableId=85558NED&_theme=168)\n",
    "De dataset bevat cijfers over welzijn in relatie met financiën. De cijfers over welzijn gaan over de bevolking van Nederland van 18 jaar of ouder. Dit wordt gedaan door middel van termen van geluk en tevredenheid met de financiële situatie (en het leven). Ook worden de mate van zorgen over de financiële toekomst opgenomen. Deze (financiële)] onderwerpen zijn verder opgesplitst in meerdere kenmerken.\n",
    "\n",
    "### Preprocessing\n",
    "Voor de eerste stap van de dataverwerking hebben we de gegevens ingeladen met Pandas. We hebben beide datasets ingeladen met sep=\";\" als parameter aangezien de csv bestanden een punt komma gebruikte als scheidingsteken. Daarna hebben we de kolomnamen van beide datasets gestandaardiseerd door spaties te vervangen door underscores. Dit hebben we gedaan zodat er makkelijker te refereren is naar deze kolommen. Ontbrekende waardes in de datasets werden aangegeven met een . maar dit hebben we veranderd naar NaN zodat Pandas dit beter herkend als ontbrekende waardes. \n",
    "\n",
    "Ook doen we voor een aantal relevante kolommen de waardes veranderen naar een numeric value in plaats van een string omdat het cbs de kolommen in een string aanlevert en Pandas dit niet herkend. Daarnaast veranderen we de Perioden kolom. In de originele 2 datasets word er na elk jaartal 'JJ00' gezet. Dit gaan we voor elk jaar weghalen zodat dit een integer word waarmee we met Pandas kunnen werken."
   ]
  },
  {
   "cell_type": "code",
   "execution_count": 11,
   "id": "7ca9e8ce",
   "metadata": {},
   "outputs": [],
   "source": [
    "import pandas as pd\n",
    "import matplotlib.pyplot as plt\n",
    "import numpy as np\n",
    "import plotly.graph_objs as go\n",
    "import plotly.express as px\n",
    "\n",
    "# Loading datasets\n",
    "df_tevredenheid = pd.read_csv('tevredenheid.csv', sep=\";\")\n",
    "df_schuld = pd.read_csv('schuld.csv', sep=\";\")\n",
    "\n",
    "# Replace spaces with underscores\n",
    "df_tevredenheid.columns = df_tevredenheid.columns.str.replace(' ', '_')\n",
    "df_schuld.columns = df_schuld.columns.str.replace(' ', '_')\n",
    "\n",
    "# Replace '.' with NaN\n",
    "df_tevredenheid.replace('.', np.nan, inplace=True)\n",
    "df_schuld.replace('.', np.nan, inplace=True)\n",
    "\n",
    "# Convert string to numeric\n",
    "df_tevredenheid['ScoreGeluk_1'] = pd.to_numeric(df_tevredenheid['ScoreGeluk_1'], errors='coerce')\n",
    "df_schuld['GemiddeldeHypotheekschuldEigenWoning_2'] = pd.to_numeric(df_schuld['GemiddeldeHypotheekschuldEigenWoning_2'], errors='coerce')\n",
    "df_schuld['GemiddeldBesteedbaarInkomen_5'] = pd.to_numeric(df_schuld['GemiddeldBesteedbaarInkomen_5'], errors='coerce')\n",
    "df_tevredenheid['ScoreTevredenheidFinancieleSituatie_9'] = pd.to_numeric(df_tevredenheid['ScoreTevredenheidFinancieleSituatie_9'], errors='coerce')\n",
    "df_tevredenheid['ScoreZorgenOverFinancieleToekomst_13'] = pd.to_numeric(df_tevredenheid['ScoreZorgenOverFinancieleToekomst_13'], errors='coerce')\n",
    "\n",
    "#Cleaning the Perioden column\n",
    "df_tevredenheid['Perioden_clean'] = df_tevredenheid['Perioden'].str.replace('JJ00', '').astype(int)\n",
    "df_schuld['Perioden_clean'] = df_schuld['Perioden'].str.replace('JJ00', '').astype(int)"
   ]
  },
  {
   "cell_type": "markdown",
   "id": "ab005721",
   "metadata": {},
   "source": [
    "# De stijgende hypotheekschulden vormen geen probleem op financieel gebied\n",
    "\n",
    "Het eerste perspectief is dat de stijgende hypotheekschulden geen probleem vormen op financieel gebied. Het perspectief is er dus op gebasseerd dat mensen hun financiën niet erop achteruit gaan, ondanks dat de hypotheekschulden toenemen. Het is makkelijk om snel te denken dat stijgende hypotheekschulden zorgen voor financiële problemen, maar als het verder goed gaat met de financiën hoeft dat niet gelijk zo te zijn. De volgende argumenten, met ondersteunende grafieken, ondersteunen dit perspectief."
   ]
  },
  {
   "cell_type": "markdown",
   "id": "25bb0214",
   "metadata": {},
   "source": [
    "## De inkomens stijgen ook\n",
    "\n",
    "Hoewel de toename van hypotheekschulden in Nederland op het eerste gezicht zorgwekkend kan lijken, biedt de groei van bruto- en besteedbaar inkomen een tegengewicht. Volgens recente gegevens van het CBS is het gemiddeld beschikbaar inkomen per hoofd van de bevolking in de afgelopen veertig jaar met 60% gestegen (CBS, 2021). Deze toename in besteedbaar inkomen zorgt voor extra financiële zekerheid bij Nederlandse huishoudens, wat helpt om de toename van de hypotheekschuld te compenseren.\n",
    "Argument 1 bij P1: Het bruto-inkomen en besteedbaar inkomen stijgen ook (zorgt voor meer financ. zekerheid)\n",
    "Ondanks de stijging van de hypotheekschuld in Nederland, is er ook sprake van een aanzienlijke stijging van het besteedbaar inkomen. Dit vergroot de financiële zekerheid van huishoudens en stelt hen in staat om hun stijgende hypotheekschuld op een verantwoorde manier te beheren. De gegevens van het CBS bevestigen dit, waarbij het gemiddeld beschikbaar inkomen per hoofd van de bevolking in de afgelopen 40 jaar met 60% is gestegen (CBS, 2021). Deze trend van stijgende inkomens wordt ook ondersteund door veranderingen in de consumptiepatronen van Nederlanders, met een opmerkelijke toename van het bezit van auto's, consumentenelektronica en de frequentie van buitenlandse vakanties en horecabezoeken."
   ]
  },
  {
   "cell_type": "code",
   "execution_count": 12,
   "id": "8147031c",
   "metadata": {},
   "outputs": [
    {
     "data": {
      "text/plain": [
       "'Figuur 1: Bar Chart Hypotheekschulden'"
      ]
     },
     "execution_count": 12,
     "metadata": {},
     "output_type": "execute_result"
    }
   ],
   "source": [
    "\"Figuur 1: Bar Chart Hypotheekschulden\""
   ]
  },
  {
   "cell_type": "markdown",
   "id": "a3a1cce5",
   "metadata": {},
   "source": [
    "Deze grafiek toont de gestage stijging van de hypotheekschuld in Nederland over een bepaalde periode. Op het eerste gezicht kan dit zorgwekkend lijken, maar in de context van de stijgende inkomens wordt dit minder problematisch."
   ]
  },
  {
   "cell_type": "code",
   "execution_count": 13,
   "id": "eb628183",
   "metadata": {},
   "outputs": [
    {
     "data": {
      "text/plain": [
       "'Figuur 2: Lijngrafiek Bruto-Inkomen en Besteedbaar Inkomen'"
      ]
     },
     "execution_count": 13,
     "metadata": {},
     "output_type": "execute_result"
    }
   ],
   "source": [
    "\"Figuur 2: Lijngrafiek Bruto-Inkomen en Besteedbaar Inkomen\""
   ]
  },
  {
   "cell_type": "markdown",
   "id": "a796fbe9",
   "metadata": {},
   "source": [
    "Deze grafiek illustreert de stijging van het bruto- en besteedbaar inkomen in Nederland. Dit ondersteunt het argument dat de stijging van de hypotheekschuld geen probleem hoeft te zijn, aangezien het bruto- en besteedbaar inkomen van huishoudens in gelijke mate is toegenomen."
   ]
  },
  {
   "cell_type": "markdown",
   "id": "2f1343ee",
   "metadata": {},
   "source": [
    "## De schuldrisico kengetallen (LTI) dalen\n",
    "\n",
    "Schuldrisico kengetallen zijn verhoudingsgetallen die bijhouden hoe groot het risico is dat de huishoudens lopen door het hebben van hypotheekschulden. Onze eerste dataset maakt onderscheid tussen drie verschillende schuldrisico kengetallen:\n",
    "- hypotheekschuld / woningwaarde (LTV)\n",
    "- hypotheekschuld / bruto-inkomen (LTI)\n",
    "- hypotheekschuld / besteedbaar inkomen (LTI)\n",
    "\n",
    "Het eerste kengetal geeft een verhouding weer tussen de hypotheekschuld van de eigen woning en de waarde van de eigen woning. Dit verhoudingsgetal staat ook wel bekend als loan-to-value (LTV). Omdat deze waarde hetzelfde is gebleven na de periode die we gebruiken, gaan we er niet verder op in. De andere twee verhoudingsgetallen zijn loan-to-income ratio’s. Deze geven dus de verhouding weer van de hypotheekschuld met het inkomen, waarbij gekozen kan worden tussen het bruto-inkomen en het besteedbaar inkomen. Bij de ratio’s geldt: hoe lager het inkomen of hoger de schulden, hoe hoger de LTI, en dus hoe hoger het betalingsrisico.\n"
   ]
  },
  {
   "cell_type": "code",
   "execution_count": 14,
   "id": "1dd18ed9",
   "metadata": {},
   "outputs": [
    {
     "data": {
      "text/plain": [
       "'Figuur 3: Een gegroepeerde staafdiagram met de twee loan-to-income (LTI) schuldrisico kengetallen als variabelen. Op de y-as staan de waardes van de kengetallen, en op de x-as staan de jaartallen.'"
      ]
     },
     "execution_count": 14,
     "metadata": {},
     "output_type": "execute_result"
    }
   ],
   "source": [
    "\"Figuur 3: Een gegroepeerde staafdiagram met de twee loan-to-income (LTI) schuldrisico kengetallen als variabelen. Op de y-as staan de waardes van de kengetallen, en op de x-as staan de jaartallen.\""
   ]
  },
  {
   "cell_type": "markdown",
   "id": "c407351d",
   "metadata": {},
   "source": [
    "Zoals in de grafiek te zien is, dalen over de periode de waardes van de schuldrisico kengetallen. Zoals eerder vernoemd, zorgt een hogere LTI voor een hoger betalingsrisico. In dit geval nemen de waarden juist af en zijn de LTI ratio’s dus minder geworden over de tijd. Dit suggereert dus dat de stijgende hypotheekschulden geen probleem zijn."
   ]
  },
  {
   "cell_type": "markdown",
   "id": "8b6c4c98",
   "metadata": {},
   "source": [
    "# De stijgende hypotheekschulden vormen geen probleem op mentaal gebied\n",
    "\n",
    "Het tweede perspectief is dat de stijgende hypotheekschulden geen probleem vormen op mentaal gebied. Het perspectief is er dus op gebasseerd dat mensen, ondanks de toenemende hypotheekschulden, er niet mentaal op achteruit gaan. Het is makkelijk om snel te denken dat stijgende hypotheekschulden zorgen voor mentale problemen, omdat hogere schulden kunnen zorgen voor stresvolle situaties, maar dit hoeft niet gelijk zo te zijn. De volgende argumenten, met ondersteunende grafieken, ondersteunen dit perspectief."
   ]
  },
  {
   "cell_type": "markdown",
   "id": "fd92ca19",
   "metadata": {},
   "source": [
    "## Geluk en tevredenheid met het leven bij mensen met eigenwoning blijft gelijk\n",
    "\n",
    "In onze tweede dataset staat er data in over hoe gelukkig mensen zijn en over hun tevredenheid met het leven. Natuurlijk is het niet heel duidelijk wat er precies onder 'geluk' verstaan wordt. Om de data te krijgen werd gevraagd: ‘Kunt u op een schaal van 1 tot en met 10 aangeven in welke mate u zichzelf een gelukkig mens vindt?' Een 1 staat voor volledig ongelukkig en 10 voor volledig gelukkig. Tevredenheid met het leven werd op dezelfde manier gedaan maar dan werd gevraagd hoe tevreden mensen zijn met het leven wat ze nu leiden."
   ]
  },
  {
   "cell_type": "code",
   "execution_count": 15,
   "id": "f7281d28",
   "metadata": {},
   "outputs": [
    {
     "data": {
      "text/plain": [
       "'figuur 4 taartdiagram geluk bij mensen met eigenwoning'"
      ]
     },
     "execution_count": 15,
     "metadata": {},
     "output_type": "execute_result"
    }
   ],
   "source": [
    "\"figuur 4 taartdiagram geluk bij mensen met eigenwoning\""
   ]
  },
  {
   "cell_type": "markdown",
   "id": "ed33cab6",
   "metadata": {},
   "source": [
    "Wanneer we het geluksniveau onder individuen met hypotheekschulden door de jaren heen analyseren, onthult dit een consistente trend. Dit is in figuur 4 te zien. Een taartdiagram, dat de verdeling van geluk weergeeft, toont aan dat er geen significante verandering is in het algehele geluk van huiseigenaren ondanks hun toenemende hypotheekschulden. De diagram blijft relatief stabiel, hieruit kunnen we concluderen dat individuen geen afname in geluk ervaren wanneer de schulden toenemen."
   ]
  },
  {
   "cell_type": "code",
   "execution_count": 16,
   "id": "6f78ac1a",
   "metadata": {},
   "outputs": [
    {
     "data": {
      "text/plain": [
       "'figuur 5 taartdiagram tevredenheid met het leven bij mensen met eigenwoning'"
      ]
     },
     "execution_count": 16,
     "metadata": {},
     "output_type": "execute_result"
    }
   ],
   "source": [
    "\"figuur 5 taartdiagram tevredenheid met het leven bij mensen met eigenwoning\""
   ]
  },
  {
   "cell_type": "markdown",
   "id": "66513244",
   "metadata": {},
   "source": [
    "Er wordt een vergelijkbare trend waargenomen als we naar tevredenheid met het leven kijken van individuen die huiseigenaren zijn. Deze gegevens hebben we met behulp van figuur 5 in een taartdiagram kunnen weergeven. Ondanks de momenteel stijgende hypotheekschulden is er in de diagram geen verschuiving van verdelingspatroon te zien. Hieruit valt te concluderen dat de tevredenheid met het leven van huiseigenaren constant blijft en niet aanzienlijk wordt beinvloed door de stijgende hypotheekschulden.\n",
    "\n",
    "Onze bevindingen tonen aan dat individuen met hypotheekschulden in staat blijven om de financiele verplichtingen die ze hebben, te beheren zonder dat dit een significant effect heeft op hun algehele geluk. Hieruit kunnen we concluderen dat, hoewel hypotheekschulden bestaan, ze geen grote impact hebben op individuen en daardoor de maatschappij op mentaal niveau."
   ]
  },
  {
   "cell_type": "markdown",
   "id": "fe835fa8",
   "metadata": {},
   "source": [
    "## Tevredenheid met de financiële situatie stijgt en zorgen over de financiële toekomst dalen bij mensen met eigenwoning\n",
    "\n",
    "Net zoals bij geluk en tevredenheid met het leven is hier weer aan de mensen gevraag om een score te geven van 1 tot 10, maar nu om aan te geven hoe tevreden ze zijn met de situatie van hun huishouden en hoevaak ze zich zorgen maken over hun financiële toekomst. Om dit argument te onderbouwen hebben we gebruik gemaakt van een boxplot van beide variabelen. Deze lijken op het eerste gezicht misschien ook op variabelen die over financiën gaan, maar ze gaan eigenlijk over wat de individuen vinden van hun financiële situaties."
   ]
  },
  {
   "cell_type": "code",
   "execution_count": 17,
   "id": "733184ff",
   "metadata": {},
   "outputs": [
    {
     "data": {
      "text/plain": [
       "'figuur 6 boxplot met dropdown'"
      ]
     },
     "execution_count": 17,
     "metadata": {},
     "output_type": "execute_result"
    }
   ],
   "source": [
    "\"figuur 6 boxplot met dropdown\""
   ]
  },
  {
   "cell_type": "markdown",
   "id": "fe0def23",
   "metadata": {},
   "source": [
    "Figuur 6 toont een boxplot die de tevredenheidsniveaus weergeeft. Hierin is een opmerkelijke trend te zien. In de afgelopen jaren neemt tevredenheid van huiseigenaren met hun financiele situatie toe. Dit wijst erop dat de toenemende hypotheekschulden de financiële tevredenheid niet zodanig negatief beïnvloedt dat het ook begint te dalen.\n",
    "\n",
    "De tweede boxplot in figuur 6 toont de zorgen over de financiele toekomst van de individuen. De individuen blijken minder vaak angstig te worden over hun toekomst, hieruit valt te concluderen dat ze vetrouwen hebben in hun vermogen om schulden te beheren en financieel stabiel te blijven of zelfs te groeien. \n",
    "Door deze argumenten en ondersteunende visualisaties te presenteren, kun je het perspectief illustreren dat stijgende hypotheekschulden geen probleem vormen op mentaal niveau."
   ]
  },
  {
   "cell_type": "markdown",
   "id": "b7a58816",
   "metadata": {},
   "source": [
    "# Reflection\n",
    "\n",
    "de feedback die we hebben behandeld: \n",
    "- Grafieken duidelijker\n",
    "- Uitleg bij de plots\n",
    "- Verbanden tussen goede plot en plots die iets zeggen\n",
    "- Goede argumenten uit de plots\n",
    "- Koppelen aan wetenschappelijke bronnen"
   ]
  },
  {
   "cell_type": "markdown",
   "id": "5b3d14ee",
   "metadata": {},
   "source": [
    "# Work distribution\n",
    "\n",
    "jo"
   ]
  },
  {
   "cell_type": "markdown",
   "id": "e354212d",
   "metadata": {},
   "source": [
    "# References\n",
    "CBS. (2021). Economische groei en het inkomen van Nederlanders. https://www.cbs.nl/nl-nl/longread/de-nederlandse-economie/2021/economische-groei-en-het-inkomen-van-nederlanders?onepage=true\n",
    "\n",
    "Lee, L. O., James, P., Zevon, E. S., Kim, E. S., Spiro, A., Grodstein, F., & Kubzansky, L. D. (2019). Optimism is associated with exceptional longevity in 2 epidemiologic cohorts of men and women. Proceedings of the National Academy of Sciences, 116(37), 18357-18362. https://doi.org/10.1073/pnas.1900712116"
   ]
  }
 ],
 "metadata": {
  "kernelspec": {
   "display_name": "Python 3 (ipykernel)",
   "language": "python",
   "name": "python3"
  },
  "language_info": {
   "codemirror_mode": {
    "name": "ipython",
    "version": 3
   },
   "file_extension": ".py",
   "mimetype": "text/x-python",
   "name": "python",
   "nbconvert_exporter": "python",
   "pygments_lexer": "ipython3",
   "version": "3.11.0"
  }
 },
 "nbformat": 4,
 "nbformat_minor": 5
}
